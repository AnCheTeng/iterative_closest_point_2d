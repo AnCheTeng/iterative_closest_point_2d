{
 "metadata": {
  "name": "",
  "signature": "sha256:b75ef717ab352a8a9f9234b6b572329aef8d62c15c1ebe87afd5ce988b03aa15"
 },
 "nbformat": 3,
 "nbformat_minor": 0,
 "worksheets": [
  {
   "cells": [
    {
     "cell_type": "code",
     "collapsed": false,
     "input": [
      "# iterative closest point \n",
      "# inspired by http://stackoverflow.com/questions/20120384/iterative-closest-point-icp-implementation-on-python"
     ],
     "language": "python",
     "metadata": {},
     "outputs": [],
     "prompt_number": 8
    },
    {
     "cell_type": "code",
     "collapsed": false,
     "input": [
      "import cv2\n",
      "import numpy as np\n",
      "import sys\n",
      "from numpy.random import *"
     ],
     "language": "python",
     "metadata": {},
     "outputs": [],
     "prompt_number": 9
    },
    {
     "cell_type": "code",
     "collapsed": false,
     "input": [
      "def del_miss(indeces, dist, max_dist, th_rate = 0.8):\n",
      "    th_dist = max_dist * th_rate\n",
      "    return np.array([indeces[0][np.where(dist.T[0] < th_dist)]])\n"
     ],
     "language": "python",
     "metadata": {},
     "outputs": [],
     "prompt_number": 10
    },
    {
     "cell_type": "code",
     "collapsed": false,
     "input": [
      "def is_converge(Tr, scale):\n",
      "    delta_angle = 0.0001\n",
      "    delta_scale = scale * 0.0001\n",
      "    \n",
      "    min_cos = 1 - delta_angle\n",
      "    max_cos = 1 + delta_angle\n",
      "    min_sin = -delta_angle\n",
      "    max_sin = delta_angle\n",
      "    min_move = -delta_scale\n",
      "    max_move = delta_scale\n",
      "    \n",
      "    return min_cos < Tr[0, 0] and Tr[0, 0] < max_cos and \\\n",
      "           min_cos < Tr[1, 1] and Tr[1, 1] < max_cos and \\\n",
      "           min_sin < -Tr[1, 0] and -Tr[1, 0] < max_sin and \\\n",
      "           min_sin < Tr[0, 1] and Tr[0, 1] < max_sin and \\\n",
      "           min_move < Tr[0, 2] and Tr[0, 2] < max_move and \\\n",
      "           min_move < Tr[1, 2] and Tr[1, 2] < max_move"
     ],
     "language": "python",
     "metadata": {},
     "outputs": [],
     "prompt_number": 11
    },
    {
     "cell_type": "code",
     "collapsed": false,
     "input": [
      "def icp(d1, d2, max_iterate = 100):\n",
      "    src = np.array([d1.T], copy=True).astype(np.float32)\n",
      "    dst = np.array([d2.T], copy=True).astype(np.float32)\n",
      "    \n",
      "    knn = cv2.KNearest()\n",
      "    responses = np.array(range(len(d2[0]))).astype(np.float32)\n",
      "    knn.train(src[0], responses)\n",
      "        \n",
      "    Tr = np.array([[np.cos(0), -np.sin(0), 0],\n",
      "                   [np.sin(0), np.cos(0),  0],\n",
      "                   [0,         0,          1]])\n",
      "\n",
      "    dst = cv2.transform(dst, Tr[0:2])\n",
      "    max_dist = sys.maxint\n",
      "    \n",
      "    scale_x = np.max(d1[0]) - np.min(d1[0])\n",
      "    scale_y = np.max(d1[1]) - np.min(d1[1])\n",
      "    scale = max(scale_x, scale_y)\n",
      "       \n",
      "    for i in range(max_iterate):\n",
      "        ret, results, neighbours, dist = knn.find_nearest(dst[0], 1)\n",
      "        \n",
      "        indeces = results.astype(np.int32).T     \n",
      "        indeces = del_miss(indeces, dist, max_dist)  \n",
      "        \n",
      "        T = cv2.estimateRigidTransform(dst[0, indeces], src[0, indeces], True)\n",
      "\n",
      "        max_dist = np.max(dist)\n",
      "        dst = cv2.transform(dst, T)\n",
      "        Tr = np.dot(np.vstack((T,[0,0,1])), Tr)\n",
      "        \n",
      "        if (is_converge(T, scale)):\n",
      "            break\n",
      "        \n",
      "    return Tr[0:2]"
     ],
     "language": "python",
     "metadata": {},
     "outputs": [],
     "prompt_number": 12
    },
    {
     "cell_type": "code",
     "collapsed": false,
     "input": [
      "if __name__ == \"__main__\":\n",
      "    import matplotlib.pyplot as plt\n",
      "    \n",
      "    point_count = 100\n",
      "    th = np.pi / 8\n",
      "    move = np.array([[0.30], [0.5]])\n",
      "    rnd_scale = 0.03\n",
      "    x1 = np.linspace(0, 1.1, point_count)\n",
      "    y1 = np.sin(x1 * np.pi)\n",
      "    d1 = np.array([x1, y1])\n",
      "\n",
      "    rot = np.array([[np.cos(th), -np.sin(th)], [np.sin(th), np.cos(th)]])\n",
      "    rand = np.random.rand(2, point_count)*rnd_scale\n",
      "    d2 = np.dot(rot, d1) + move\n",
      "    d2 = np.add(d2, rand)\n",
      "\n",
      "\n",
      "    ret = icp(d1, d2)\n",
      "\n",
      "    plt.plot(d1[0], d1[1])\n",
      "    plt.plot(d2[0], d2[1])\n",
      "    dst = np.array([d2.T], copy=True).astype(np.float32)\n",
      "    dst = cv2.transform(dst, ret)\n",
      "    plt.plot(dst[0].T[0], dst[0].T[1])\n",
      "    plt.show()\n",
      "\n",
      "    print ret[0][0] * ret[0][0] + ret[0][1] * ret[0][1]\n",
      "    print np.arccos(ret[0][0]) / 2 / np.pi * 360\n",
      "    print np.arcsin(ret[0][1]) / 2 / np.pi * 360\n",
      "\n",
      "    print ret"
     ],
     "language": "python",
     "metadata": {},
     "outputs": [
      {
       "metadata": {},
       "output_type": "display_data",
       "png": "[encoded data removed]",
       "text": [
        "<matplotlib.figure.Figure at 0xb8918d0>"
       ]
      },
      {
       "output_type": "stream",
       "stream": "stdout",
       "text": [
        "0.994925762991\n",
        "22.7073274015\n",
        "22.2961914692\n",
        "[[ 0.92248873  0.37939466 -0.48174896]\n",
        " [-0.37820499  0.93066023 -0.36719412]]\n"
       ]
      }
     ],
     "prompt_number": 35
    },
    {
     "cell_type": "code",
     "collapsed": false,
     "input": [],
     "language": "python",
     "metadata": {},
     "outputs": []
    }
   ],
   "metadata": {}
  }
 ]
}